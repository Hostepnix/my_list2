{
 "cells": [
  {
   "cell_type": "code",
   "execution_count": 31,
   "metadata": {},
   "outputs": [
    {
     "name": "stdout",
     "output_type": "stream",
     "text": [
      "[]\n",
      "[10]\n",
      "[10, 20]\n",
      "[10, 20, 30]\n",
      "[10, 20, 30, 40]\n",
      "[10, 20, 15, 30, 40]\n",
      "[10, 20, 15, 30, 40, 50, 60, 70]\n",
      "[10, 20, 15, 30, 40, 50, 60]\n",
      "[10, 15, 20, 30, 40, 50, 60]\n",
      "30\n"
     ]
    }
   ],
   "source": [
    "#create an empty list called my_list\n",
    "my_list = []\n",
    "print(my_list)\n",
    "#appending values to my-list\n",
    "my_list.append(10)\n",
    "print(my_list)\n",
    "my_list.append(20)\n",
    "print(my_list)\n",
    "my_list.append(30)\n",
    "print(my_list)\n",
    "my_list.append(40)\n",
    "print(my_list)\n",
    "\n",
    "#insert 15 to the second position in the list\n",
    "my_list.insert(2, 15)\n",
    "print(my_list)\n",
    "\n",
    "#Extend my-list values\n",
    "add = [50,60,70]\n",
    "my_list.extend(add)\n",
    "print(my_list)\n",
    "\n",
    "#5. remove the last element from my_list\n",
    "del my_list[-1]\n",
    "print(my_list)\n",
    "#Or\n",
    "#my_list.remove(70)\n",
    "#print(my_list)\n",
    "\n",
    "#6. sort my-list in ascending order\n",
    "my_list.sort()\n",
    "print(my_list)\n",
    "\n",
    "#7. find and print the index of the value 30 in my-list\n",
    "print(my_list[3])\n",
    "print(my_list[2])"
   ]
  }
 ],
 "metadata": {
  "kernelspec": {
   "display_name": "Python 3",
   "language": "python",
   "name": "python3"
  },
  "language_info": {
   "codemirror_mode": {
    "name": "ipython",
    "version": 3
   },
   "file_extension": ".py",
   "mimetype": "text/x-python",
   "name": "python",
   "nbconvert_exporter": "python",
   "pygments_lexer": "ipython3",
   "version": "3.12.2"
  }
 },
 "nbformat": 4,
 "nbformat_minor": 2
}
